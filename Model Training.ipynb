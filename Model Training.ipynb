{
 "cells": [
  {
   "cell_type": "code",
   "execution_count": 5,
   "id": "16859238-9447-4f54-899b-f2186a164bbc",
   "metadata": {},
   "outputs": [],
   "source": [
    "import pandas as pd"
   ]
  },
  {
   "cell_type": "code",
   "execution_count": 6,
   "id": "9ea6e132-a9ec-4c40-ad0f-c892f79ef52d",
   "metadata": {},
   "outputs": [],
   "source": [
    "df=pd.read_csv(\"spotify_millsongdata.csv\")"
   ]
  },
  {
   "cell_type": "code",
   "execution_count": 7,
   "id": "a9bc7d44-51db-478f-8992-abf082cbe439",
   "metadata": {},
   "outputs": [
    {
     "data": {
      "text/html": [
       "<div>\n",
       "<style scoped>\n",
       "    .dataframe tbody tr th:only-of-type {\n",
       "        vertical-align: middle;\n",
       "    }\n",
       "\n",
       "    .dataframe tbody tr th {\n",
       "        vertical-align: top;\n",
       "    }\n",
       "\n",
       "    .dataframe thead th {\n",
       "        text-align: right;\n",
       "    }\n",
       "</style>\n",
       "<table border=\"1\" class=\"dataframe\">\n",
       "  <thead>\n",
       "    <tr style=\"text-align: right;\">\n",
       "      <th></th>\n",
       "      <th>artist</th>\n",
       "      <th>song</th>\n",
       "      <th>link</th>\n",
       "      <th>text</th>\n",
       "    </tr>\n",
       "  </thead>\n",
       "  <tbody>\n",
       "    <tr>\n",
       "      <th>0</th>\n",
       "      <td>ABBA</td>\n",
       "      <td>Ahe's My Kind Of Girl</td>\n",
       "      <td>/a/abba/ahes+my+kind+of+girl_20598417.html</td>\n",
       "      <td>Look at her face, it's a wonderful face  \\r\\nA...</td>\n",
       "    </tr>\n",
       "    <tr>\n",
       "      <th>1</th>\n",
       "      <td>ABBA</td>\n",
       "      <td>Andante, Andante</td>\n",
       "      <td>/a/abba/andante+andante_20002708.html</td>\n",
       "      <td>Take it easy with me, please  \\r\\nTouch me gen...</td>\n",
       "    </tr>\n",
       "    <tr>\n",
       "      <th>2</th>\n",
       "      <td>ABBA</td>\n",
       "      <td>As Good As New</td>\n",
       "      <td>/a/abba/as+good+as+new_20003033.html</td>\n",
       "      <td>I'll never know why I had to go  \\r\\nWhy I had...</td>\n",
       "    </tr>\n",
       "    <tr>\n",
       "      <th>3</th>\n",
       "      <td>ABBA</td>\n",
       "      <td>Bang</td>\n",
       "      <td>/a/abba/bang_20598415.html</td>\n",
       "      <td>Making somebody happy is a question of give an...</td>\n",
       "    </tr>\n",
       "    <tr>\n",
       "      <th>4</th>\n",
       "      <td>ABBA</td>\n",
       "      <td>Bang-A-Boomerang</td>\n",
       "      <td>/a/abba/bang+a+boomerang_20002668.html</td>\n",
       "      <td>Making somebody happy is a question of give an...</td>\n",
       "    </tr>\n",
       "  </tbody>\n",
       "</table>\n",
       "</div>"
      ],
      "text/plain": [
       "  artist                   song                                        link  \\\n",
       "0   ABBA  Ahe's My Kind Of Girl  /a/abba/ahes+my+kind+of+girl_20598417.html   \n",
       "1   ABBA       Andante, Andante       /a/abba/andante+andante_20002708.html   \n",
       "2   ABBA         As Good As New        /a/abba/as+good+as+new_20003033.html   \n",
       "3   ABBA                   Bang                  /a/abba/bang_20598415.html   \n",
       "4   ABBA       Bang-A-Boomerang      /a/abba/bang+a+boomerang_20002668.html   \n",
       "\n",
       "                                                text  \n",
       "0  Look at her face, it's a wonderful face  \\r\\nA...  \n",
       "1  Take it easy with me, please  \\r\\nTouch me gen...  \n",
       "2  I'll never know why I had to go  \\r\\nWhy I had...  \n",
       "3  Making somebody happy is a question of give an...  \n",
       "4  Making somebody happy is a question of give an...  "
      ]
     },
     "execution_count": 7,
     "metadata": {},
     "output_type": "execute_result"
    }
   ],
   "source": [
    "df.head(5)"
   ]
  },
  {
   "cell_type": "code",
   "execution_count": 8,
   "id": "a3a78cb8-35e5-4e0f-b4a1-1c8bbe3e5c55",
   "metadata": {},
   "outputs": [
    {
     "data": {
      "text/html": [
       "<div>\n",
       "<style scoped>\n",
       "    .dataframe tbody tr th:only-of-type {\n",
       "        vertical-align: middle;\n",
       "    }\n",
       "\n",
       "    .dataframe tbody tr th {\n",
       "        vertical-align: top;\n",
       "    }\n",
       "\n",
       "    .dataframe thead th {\n",
       "        text-align: right;\n",
       "    }\n",
       "</style>\n",
       "<table border=\"1\" class=\"dataframe\">\n",
       "  <thead>\n",
       "    <tr style=\"text-align: right;\">\n",
       "      <th></th>\n",
       "      <th>artist</th>\n",
       "      <th>song</th>\n",
       "      <th>link</th>\n",
       "      <th>text</th>\n",
       "    </tr>\n",
       "  </thead>\n",
       "  <tbody>\n",
       "    <tr>\n",
       "      <th>57645</th>\n",
       "      <td>Ziggy Marley</td>\n",
       "      <td>Good Old Days</td>\n",
       "      <td>/z/ziggy+marley/good+old+days_10198588.html</td>\n",
       "      <td>Irie days come on play  \\r\\nLet the angels fly...</td>\n",
       "    </tr>\n",
       "    <tr>\n",
       "      <th>57646</th>\n",
       "      <td>Ziggy Marley</td>\n",
       "      <td>Hand To Mouth</td>\n",
       "      <td>/z/ziggy+marley/hand+to+mouth_20531167.html</td>\n",
       "      <td>Power to the workers  \\r\\nMore power  \\r\\nPowe...</td>\n",
       "    </tr>\n",
       "    <tr>\n",
       "      <th>57647</th>\n",
       "      <td>Zwan</td>\n",
       "      <td>Come With Me</td>\n",
       "      <td>/z/zwan/come+with+me_20148981.html</td>\n",
       "      <td>all you need  \\r\\nis something i'll believe  \\...</td>\n",
       "    </tr>\n",
       "    <tr>\n",
       "      <th>57648</th>\n",
       "      <td>Zwan</td>\n",
       "      <td>Desire</td>\n",
       "      <td>/z/zwan/desire_20148986.html</td>\n",
       "      <td>northern star  \\r\\nam i frightened  \\r\\nwhere ...</td>\n",
       "    </tr>\n",
       "    <tr>\n",
       "      <th>57649</th>\n",
       "      <td>Zwan</td>\n",
       "      <td>Heartsong</td>\n",
       "      <td>/z/zwan/heartsong_20148991.html</td>\n",
       "      <td>come in  \\r\\nmake yourself at home  \\r\\ni'm a ...</td>\n",
       "    </tr>\n",
       "  </tbody>\n",
       "</table>\n",
       "</div>"
      ],
      "text/plain": [
       "             artist           song  \\\n",
       "57645  Ziggy Marley  Good Old Days   \n",
       "57646  Ziggy Marley  Hand To Mouth   \n",
       "57647          Zwan   Come With Me   \n",
       "57648          Zwan         Desire   \n",
       "57649          Zwan      Heartsong   \n",
       "\n",
       "                                              link  \\\n",
       "57645  /z/ziggy+marley/good+old+days_10198588.html   \n",
       "57646  /z/ziggy+marley/hand+to+mouth_20531167.html   \n",
       "57647           /z/zwan/come+with+me_20148981.html   \n",
       "57648                 /z/zwan/desire_20148986.html   \n",
       "57649              /z/zwan/heartsong_20148991.html   \n",
       "\n",
       "                                                    text  \n",
       "57645  Irie days come on play  \\r\\nLet the angels fly...  \n",
       "57646  Power to the workers  \\r\\nMore power  \\r\\nPowe...  \n",
       "57647  all you need  \\r\\nis something i'll believe  \\...  \n",
       "57648  northern star  \\r\\nam i frightened  \\r\\nwhere ...  \n",
       "57649  come in  \\r\\nmake yourself at home  \\r\\ni'm a ...  "
      ]
     },
     "execution_count": 8,
     "metadata": {},
     "output_type": "execute_result"
    }
   ],
   "source": [
    "df.tail(5)"
   ]
  },
  {
   "cell_type": "code",
   "execution_count": 9,
   "id": "70b5c681-b279-49c9-9395-6b732536297f",
   "metadata": {},
   "outputs": [
    {
     "data": {
      "text/plain": [
       "(57650, 4)"
      ]
     },
     "execution_count": 9,
     "metadata": {},
     "output_type": "execute_result"
    }
   ],
   "source": [
    "df.shape"
   ]
  },
  {
   "cell_type": "code",
   "execution_count": 10,
   "id": "1d709d3f-7b1d-4a72-9d60-1b695fe470ab",
   "metadata": {},
   "outputs": [
    {
     "data": {
      "text/plain": [
       "artist    0\n",
       "song      0\n",
       "link      0\n",
       "text      0\n",
       "dtype: int64"
      ]
     },
     "execution_count": 10,
     "metadata": {},
     "output_type": "execute_result"
    }
   ],
   "source": [
    "df.isnull().sum()"
   ]
  },
  {
   "cell_type": "code",
   "execution_count": 11,
   "id": "9f6d4473-c99b-4ce8-b279-360a82888d46",
   "metadata": {},
   "outputs": [],
   "source": [
    "df =df.sample(5000).drop('link', axis=1).reset_index(drop=True)"
   ]
  },
  {
   "cell_type": "code",
   "execution_count": 12,
   "id": "97fbae6e-5d28-4b0d-aab2-87dc3f63b0ed",
   "metadata": {},
   "outputs": [
    {
     "data": {
      "text/html": [
       "<div>\n",
       "<style scoped>\n",
       "    .dataframe tbody tr th:only-of-type {\n",
       "        vertical-align: middle;\n",
       "    }\n",
       "\n",
       "    .dataframe tbody tr th {\n",
       "        vertical-align: top;\n",
       "    }\n",
       "\n",
       "    .dataframe thead th {\n",
       "        text-align: right;\n",
       "    }\n",
       "</style>\n",
       "<table border=\"1\" class=\"dataframe\">\n",
       "  <thead>\n",
       "    <tr style=\"text-align: right;\">\n",
       "      <th></th>\n",
       "      <th>artist</th>\n",
       "      <th>song</th>\n",
       "      <th>text</th>\n",
       "    </tr>\n",
       "  </thead>\n",
       "  <tbody>\n",
       "    <tr>\n",
       "      <th>0</th>\n",
       "      <td>Dusty Springfield</td>\n",
       "      <td>All The King's Horses</td>\n",
       "      <td>Mmm, my friends keep telling me to pull myself...</td>\n",
       "    </tr>\n",
       "    <tr>\n",
       "      <th>1</th>\n",
       "      <td>Ella Fitzgerald</td>\n",
       "      <td>Come Rain Or Come Shine</td>\n",
       "      <td>I'm gonna love you, like nobody's loved you  \\...</td>\n",
       "    </tr>\n",
       "    <tr>\n",
       "      <th>2</th>\n",
       "      <td>Phish</td>\n",
       "      <td>Chalk Dust Torture</td>\n",
       "      <td>Come stumble my mirth beaten worker  \\r\\nI'm J...</td>\n",
       "    </tr>\n",
       "    <tr>\n",
       "      <th>3</th>\n",
       "      <td>Josh Groban</td>\n",
       "      <td>Broken Vow</td>\n",
       "      <td>Tell me his name  \\r\\nI want to know  \\r\\nThe ...</td>\n",
       "    </tr>\n",
       "    <tr>\n",
       "      <th>4</th>\n",
       "      <td>Human League</td>\n",
       "      <td>Stay With Me Tonight</td>\n",
       "      <td>Baby baby baby got to say what's on my mind  \\...</td>\n",
       "    </tr>\n",
       "    <tr>\n",
       "      <th>5</th>\n",
       "      <td>Judy Garland</td>\n",
       "      <td>That's The Good Old Sunny South</td>\n",
       "      <td>Don't fly away, come along quick,  \\r\\nSouth w...</td>\n",
       "    </tr>\n",
       "    <tr>\n",
       "      <th>6</th>\n",
       "      <td>Nick Drake</td>\n",
       "      <td>The Thoughts Of Mary Jane</td>\n",
       "      <td>Who can know  \\r\\nThe thoughts of Mary Jane  \\...</td>\n",
       "    </tr>\n",
       "    <tr>\n",
       "      <th>7</th>\n",
       "      <td>Ufo</td>\n",
       "      <td>The Writer</td>\n",
       "      <td>I'm the writer got a front page cover  \\r\\nHot...</td>\n",
       "    </tr>\n",
       "    <tr>\n",
       "      <th>8</th>\n",
       "      <td>Modern Talking</td>\n",
       "      <td>Cosmic Girl</td>\n",
       "      <td>The heart of the ocean told me, you're the onl...</td>\n",
       "    </tr>\n",
       "    <tr>\n",
       "      <th>9</th>\n",
       "      <td>Ray Charles</td>\n",
       "      <td>Heaven Help Us All</td>\n",
       "      <td>Heaven help the child who never had a home,  \\...</td>\n",
       "    </tr>\n",
       "  </tbody>\n",
       "</table>\n",
       "</div>"
      ],
      "text/plain": [
       "              artist                             song  \\\n",
       "0  Dusty Springfield            All The King's Horses   \n",
       "1    Ella Fitzgerald          Come Rain Or Come Shine   \n",
       "2              Phish               Chalk Dust Torture   \n",
       "3        Josh Groban                       Broken Vow   \n",
       "4       Human League             Stay With Me Tonight   \n",
       "5       Judy Garland  That's The Good Old Sunny South   \n",
       "6         Nick Drake        The Thoughts Of Mary Jane   \n",
       "7                Ufo                       The Writer   \n",
       "8     Modern Talking                      Cosmic Girl   \n",
       "9        Ray Charles               Heaven Help Us All   \n",
       "\n",
       "                                                text  \n",
       "0  Mmm, my friends keep telling me to pull myself...  \n",
       "1  I'm gonna love you, like nobody's loved you  \\...  \n",
       "2  Come stumble my mirth beaten worker  \\r\\nI'm J...  \n",
       "3  Tell me his name  \\r\\nI want to know  \\r\\nThe ...  \n",
       "4  Baby baby baby got to say what's on my mind  \\...  \n",
       "5  Don't fly away, come along quick,  \\r\\nSouth w...  \n",
       "6  Who can know  \\r\\nThe thoughts of Mary Jane  \\...  \n",
       "7  I'm the writer got a front page cover  \\r\\nHot...  \n",
       "8  The heart of the ocean told me, you're the onl...  \n",
       "9  Heaven help the child who never had a home,  \\...  "
      ]
     },
     "execution_count": 12,
     "metadata": {},
     "output_type": "execute_result"
    }
   ],
   "source": [
    "df.head(10)"
   ]
  },
  {
   "cell_type": "code",
   "execution_count": 13,
   "id": "8e653994-7432-4a1b-aa33-bce5c45c81ef",
   "metadata": {},
   "outputs": [
    {
     "data": {
      "text/plain": [
       "\"Mmm, my friends keep telling me to pull myself together  \\r\\nThey try to cheer my up but it's not gettin' better  \\r\\nThey say that time will pass and I'll love again some day  \\r\\nBut time is standing still ever since you went away  \\r\\n  \\r\\nNow, all the king's horses and all the king's men  \\r\\nYou'll never get me back together again  \\r\\n'Cause I just fall apart each time I look at you  \\r\\nNo, all the king's and all the king's men  \\r\\nAre never gonna make me smile again  \\r\\nHow can I smile just knowin' you're with somebody new?, ooh  \\r\\n  \\r\\nYou had my hopes so high I guess they had to tumble  \\r\\nAnd when you left my dream my world began to crumble  \\r\\nNo woman ever found the only missing part  \\r\\nWhen you left me behind don't you know you took my heart?  \\r\\n  \\r\\nNow, all the king's horses and all the king's men  \\r\\nYou'll never get me back together again  \\r\\n'Cause I just fall apart each time I look at you, yes I do, now  \\r\\nAll the king's and all the king's men  \\r\\nYou're never gonna make me smile again  \\r\\nHow can I smile just knowin' you're with somebody new?, ooh, yeah, ooh, ahh,\\r\\nha  \\r\\n  \\r\\nAll the king's horses and all the king's men  \\r\\nYou'll never get me back together again  \\r\\n'Cause I just fall apart each time I look at you, yes I do  \\r\\nI said, all the king's and all the king's men  \\r\\nAre never gonna make me smile again  \\r\\nHow can I smile just knowing you're with somebody new?, yeah  \\r\\n  \\r\\nAll the king's horses and all the king's men  \\r\\nYou'll never get me back together again  \\r\\nAnd I just fall apart each time\\r\\n\\r\\n\""
      ]
     },
     "execution_count": 13,
     "metadata": {},
     "output_type": "execute_result"
    }
   ],
   "source": [
    "df['text'][0]"
   ]
  },
  {
   "cell_type": "code",
   "execution_count": 14,
   "id": "9066a8b8-6701-4e93-bae3-167932dd6def",
   "metadata": {},
   "outputs": [
    {
     "data": {
      "text/plain": [
       "(5000, 3)"
      ]
     },
     "execution_count": 14,
     "metadata": {},
     "output_type": "execute_result"
    }
   ],
   "source": [
    "df.shape"
   ]
  },
  {
   "cell_type": "raw",
   "id": "aae9d1d2-b2cf-445c-a534-9787df807065",
   "metadata": {},
   "source": [
    "Text Cleaning/ Text Preprocessing"
   ]
  },
  {
   "cell_type": "code",
   "execution_count": 15,
   "id": "3414cf53-92f9-4392-abab-e8bfe0c4d5e7",
   "metadata": {},
   "outputs": [],
   "source": [
    "df['text'] = df['text'].str.lower().replace(r'^\\w\\s', ' ').replace(r'\\n', ' ', regex = True)"
   ]
  },
  {
   "cell_type": "code",
   "execution_count": 16,
   "id": "265a5a7f-e630-4374-a595-628aa2d5a406",
   "metadata": {},
   "outputs": [
    {
     "name": "stderr",
     "output_type": "stream",
     "text": [
      "[nltk_data] Downloading package punkt to\n",
      "[nltk_data]     /Users/ayushsharaf/nltk_data...\n",
      "[nltk_data]   Package punkt is already up-to-date!\n"
     ]
    }
   ],
   "source": [
    "import nltk\n",
    "nltk.download('punkt')\n",
    "from nltk.stem.porter import PorterStemmer\n",
    "stemmer = PorterStemmer()\n",
    "\n",
    "def tokenization(txt):\n",
    "    tokens = nltk.word_tokenize(txt)\n",
    "    stemming = [stemmer.stem(w) for w in tokens]\n",
    "    return \" \".join(stemming)"
   ]
  },
  {
   "cell_type": "code",
   "execution_count": 19,
   "id": "2cdbf77b-0828-4990-8584-a832475fae88",
   "metadata": {},
   "outputs": [],
   "source": [
    "df['text']=df['text'].apply(lambda x: tokenization(x))"
   ]
  },
  {
   "cell_type": "code",
   "execution_count": 20,
   "id": "71a4e324-ac84-4a5e-9636-3b4b091422f4",
   "metadata": {},
   "outputs": [],
   "source": [
    "from sklearn.feature_extraction.text import TfidfVectorizer\n",
    "from sklearn.metrics.pairwise import cosine_similarity"
   ]
  },
  {
   "cell_type": "code",
   "execution_count": 24,
   "id": "461fa1a6-522d-45ce-b283-bfcebd0e9e56",
   "metadata": {},
   "outputs": [
    {
     "data": {
      "text/plain": [
       "array([[1.        , 0.11944937, 0.01549871, ..., 0.03179666, 0.16329252,\n",
       "        0.0310324 ],\n",
       "       [0.11944937, 1.        , 0.02784206, ..., 0.06857174, 0.02856084,\n",
       "        0.07300146],\n",
       "       [0.01549871, 0.02784206, 1.        , ..., 0.03172303, 0.02559512,\n",
       "        0.02691759],\n",
       "       ...,\n",
       "       [0.03179666, 0.06857174, 0.03172303, ..., 1.        , 0.02295913,\n",
       "        0.0165774 ],\n",
       "       [0.16329252, 0.02856084, 0.02559512, ..., 0.02295913, 1.        ,\n",
       "        0.01601543],\n",
       "       [0.0310324 , 0.07300146, 0.02691759, ..., 0.0165774 , 0.01601543,\n",
       "        1.        ]])"
      ]
     },
     "execution_count": 24,
     "metadata": {},
     "output_type": "execute_result"
    }
   ],
   "source": [
    "tfidvector = TfidfVectorizer(analyzer='word',stop_words='english')\n",
    "matrix = tfidvector.fit_transform(df['text'])\n",
    "similarity = cosine_similarity(matrix)"
   ]
  },
  {
   "cell_type": "code",
   "execution_count": 25,
   "id": "9994ecf5-c113-4c8b-855e-2deba293618a",
   "metadata": {},
   "outputs": [
    {
     "data": {
      "text/plain": [
       "array([1.        , 0.11944937, 0.01549871, ..., 0.03179666, 0.16329252,\n",
       "       0.0310324 ])"
      ]
     },
     "execution_count": 25,
     "metadata": {},
     "output_type": "execute_result"
    }
   ],
   "source": [
    "similarity[0]"
   ]
  },
  {
   "cell_type": "code",
   "execution_count": 27,
   "id": "5fee99b5-9c95-4b23-85c8-d40606a082f6",
   "metadata": {},
   "outputs": [
    {
     "data": {
      "text/html": [
       "<div>\n",
       "<style scoped>\n",
       "    .dataframe tbody tr th:only-of-type {\n",
       "        vertical-align: middle;\n",
       "    }\n",
       "\n",
       "    .dataframe tbody tr th {\n",
       "        vertical-align: top;\n",
       "    }\n",
       "\n",
       "    .dataframe thead th {\n",
       "        text-align: right;\n",
       "    }\n",
       "</style>\n",
       "<table border=\"1\" class=\"dataframe\">\n",
       "  <thead>\n",
       "    <tr style=\"text-align: right;\">\n",
       "      <th></th>\n",
       "      <th>artist</th>\n",
       "      <th>song</th>\n",
       "      <th>text</th>\n",
       "    </tr>\n",
       "  </thead>\n",
       "  <tbody>\n",
       "    <tr>\n",
       "      <th>3687</th>\n",
       "      <td>Nazareth</td>\n",
       "      <td>Waiting For The Man</td>\n",
       "      <td>cruisin ' on down to my street corner where me...</td>\n",
       "    </tr>\n",
       "  </tbody>\n",
       "</table>\n",
       "</div>"
      ],
      "text/plain": [
       "        artist                 song  \\\n",
       "3687  Nazareth  Waiting For The Man   \n",
       "\n",
       "                                                   text  \n",
       "3687  cruisin ' on down to my street corner where me...  "
      ]
     },
     "execution_count": 27,
     "metadata": {},
     "output_type": "execute_result"
    }
   ],
   "source": [
    "df[df['song'] == 'Waiting For The Man']"
   ]
  },
  {
   "cell_type": "code",
   "execution_count": 28,
   "id": "706af3e1-10a6-4250-85a7-465762798f3f",
   "metadata": {},
   "outputs": [],
   "source": [
    "def recommendation(song_df):\n",
    "    idx = df[df['song'] == song_df].index[0]\n",
    "    distances = sorted(list(enumerate(similarity[idx])),reverse=True,key=lambda x:x[1])\n",
    "    \n",
    "    songs = []\n",
    "    for m_id in distances[1:21]:\n",
    "        songs.append(df.iloc[m_id[0]].song)\n",
    "        \n",
    "    return songs"
   ]
  },
  {
   "cell_type": "code",
   "execution_count": 31,
   "id": "88ce57ac-46eb-4dcc-9a8a-e47aa18d8795",
   "metadata": {},
   "outputs": [
    {
     "data": {
      "text/plain": [
       "['In Your Corner',\n",
       " 'Marie',\n",
       " 'My Little Corner Of The World',\n",
       " 'Cautious Man',\n",
       " 'Cuban Crime Of Passion',\n",
       " '7 Rooms Of Gloom',\n",
       " 'R.u. Man Enough',\n",
       " 'Show Me',\n",
       " 'Available',\n",
       " 'Spaceship Coupe',\n",
       " \"I'm A Man\",\n",
       " '4 Broken Hearts',\n",
       " 'Be A Man',\n",
       " 'Autumn Winds',\n",
       " 'Money Man',\n",
       " 'Pretty Vegas',\n",
       " 'I Want A Guy',\n",
       " \"It Just Ain't Right\",\n",
       " 'So This Is Love?',\n",
       " 'Mary, Did You Know?']"
      ]
     },
     "execution_count": 31,
     "metadata": {},
     "output_type": "execute_result"
    }
   ],
   "source": [
    "recommendation('Waiting For The Man')"
   ]
  },
  {
   "cell_type": "code",
   "execution_count": 32,
   "id": "1f5ac0ca-6553-44b0-b0fb-148fe0669bdc",
   "metadata": {},
   "outputs": [],
   "source": [
    "import pickle\n",
    "pickle.dump(similarity,open('similarity.pkl','wb'))\n",
    "pickle.dump(df,open('df.pkl','wb'))"
   ]
  },
  {
   "cell_type": "code",
   "execution_count": null,
   "id": "f2c23e1c-cafa-4a93-bcb4-a5cac636c0e3",
   "metadata": {},
   "outputs": [],
   "source": []
  }
 ],
 "metadata": {
  "kernelspec": {
   "display_name": "Python 3 (ipykernel)",
   "language": "python",
   "name": "python3"
  },
  "language_info": {
   "codemirror_mode": {
    "name": "ipython",
    "version": 3
   },
   "file_extension": ".py",
   "mimetype": "text/x-python",
   "name": "python",
   "nbconvert_exporter": "python",
   "pygments_lexer": "ipython3",
   "version": "3.12.1"
  }
 },
 "nbformat": 4,
 "nbformat_minor": 5
}
